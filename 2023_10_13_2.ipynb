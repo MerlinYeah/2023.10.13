{
  "nbformat": 4,
  "nbformat_minor": 0,
  "metadata": {
    "colab": {
      "provenance": []
    },
    "kernelspec": {
      "name": "python3",
      "display_name": "Python 3"
    },
    "language_info": {
      "name": "python"
    }
  },
  "cells": [
    {
      "cell_type": "code",
      "execution_count": 3,
      "metadata": {
        "colab": {
          "base_uri": "https://localhost:8080/"
        },
        "id": "T8jf4PoqBN3a",
        "outputId": "1527bc06-a542-41a9-8ca7-5eabb28dec34"
      },
      "outputs": [
        {
          "output_type": "stream",
          "name": "stdout",
          "text": [
            "Yeh wen ling\n",
            "<class 'str'>\n",
            "b1205039\n",
            "<class 'str'>\n"
          ]
        }
      ],
      "source": [
        "x=\"Yeh wen ling\"\n",
        "print(x)\n",
        "print (type (x))\n",
        "\n",
        "y=\"b1205039\"\n",
        "print(y)\n",
        "print (type (y))"
      ]
    }
  ]
}