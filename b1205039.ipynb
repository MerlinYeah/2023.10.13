{
  "nbformat": 4,
  "nbformat_minor": 0,
  "metadata": {
    "colab": {
      "provenance": []
    },
    "kernelspec": {
      "name": "python3",
      "display_name": "Python 3"
    },
    "language_info": {
      "name": "python"
    }
  },
  "cells": [
    {
      "cell_type": "code",
      "execution_count": 4,
      "metadata": {
        "id": "Vk7SY2ZIypHn",
        "colab": {
          "base_uri": "https://localhost:8080/"
        },
        "outputId": "5d3b4886-bece-4fe1-fb66-3b5b7f587a72"
      },
      "outputs": [
        {
          "output_type": "stream",
          "name": "stdout",
          "text": [
            "Name:(Yeh wen lin),Id:(b1205039)\n"
          ]
        }
      ],
      "source": [
        "my_dict = {\"name\":\"Yeh wen ling\",\"id\":\"b1205039\"}\n",
        "name = my_dict[\"name\"]\n",
        "id = my_dict[\"id\"]\n",
        "print(f\"Name:(Yeh wen lin),Id:(b1205039)\")\n"
      ]
    }
  ]
}